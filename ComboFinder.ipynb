{
  "nbformat": 4,
  "nbformat_minor": 0,
  "metadata": {
    "colab": {
      "provenance": [],
      "authorship_tag": "ABX9TyMOXdHyK56u1wcawNsBPfPv",
      "include_colab_link": true
    },
    "kernelspec": {
      "name": "python3",
      "display_name": "Python 3"
    },
    "language_info": {
      "name": "python"
    }
  },
  "cells": [
    {
      "cell_type": "markdown",
      "metadata": {
        "id": "view-in-github",
        "colab_type": "text"
      },
      "source": [
        "<a href=\"https://colab.research.google.com/github/Ria-Madan/Mini-Project-Combo-Finder/blob/main/ComboFinder.ipynb\" target=\"_parent\"><img src=\"https://colab.research.google.com/assets/colab-badge.svg\" alt=\"Open In Colab\"/></a>"
      ]
    },
    {
      "cell_type": "markdown",
      "source": [
        "\n",
        "\n",
        "---\n",
        "Find all the list of products whose sum-of-price is between 290 and 310.\n",
        "\n",
        "ProductList = {p1:10, p2:15, p3:20, p4:25, p5:30, p6:35, p7:50}\n",
        "\n",
        "\n",
        "\n",
        "---\n",
        "\n",
        "\n",
        "\n"
      ],
      "metadata": {
        "id": "eUBuDlO9r8km"
      }
    },
    {
      "cell_type": "code",
      "source": [
        "import random as r\n",
        "\n",
        "#price={'p1':10, 'p2':15, 'p3':20, 'p4':25, 'p5':30, 'p6':35, 'p7':50}\n",
        "price={'p1':10, 'p2':15, 'p3':20, 'p4':25, 'p5':30, 'p6':35, 'p7':50,\n",
        "               'p8':40, 'p9':55, 'p10':60, 'p11':65, 'p12':75, 'p13':70,\n",
        "               'p14':45}\n",
        "lb=290\n",
        "ub=310\n",
        "\n",
        "Final=set()\n",
        "prod=list()\n",
        "\n",
        "\n",
        "for i in range(1000):\n",
        "    l=r.randint(2,len(price))\n",
        "    prod=r.sample(list(price.keys()),l)\n",
        "    prod.sort()\n",
        "    s=sum(price[i] for i in prod)\n",
        "    if(s>=lb) and (s<=ub):\n",
        "      Final.add(tuple(prod))\n",
        "\n",
        "\n",
        "\n",
        "\n",
        "\n",
        "print(len(Final))\n",
        "print(Final)\n",
        "\n",
        "\n"
      ],
      "metadata": {
        "colab": {
          "base_uri": "https://localhost:8080/"
        },
        "id": "e7f6hgo4r6mt",
        "outputId": "58edb177-f4fc-4039-9df4-178f3224f0f2"
      },
      "execution_count": null,
      "outputs": [
        {
          "output_type": "stream",
          "name": "stdout",
          "text": [
            "51\n",
            "{('p10', 'p11', 'p12', 'p2', 'p3', 'p6', 'p8'), ('p11', 'p12', 'p13', 'p6', 'p7'), ('p1', 'p10', 'p11', 'p3', 'p4', 'p6', 'p8', 'p9'), ('p1', 'p10', 'p11', 'p12', 'p4', 'p9'), ('p1', 'p11', 'p14', 'p2', 'p5', 'p6', 'p7', 'p9'), ('p1', 'p12', 'p14', 'p2', 'p4', 'p5', 'p7', 'p9'), ('p10', 'p12', 'p3', 'p5', 'p7', 'p9'), ('p12', 'p2', 'p4', 'p6', 'p7', 'p8', 'p9'), ('p11', 'p12', 'p3', 'p5', 'p7', 'p9'), ('p1', 'p10', 'p11', 'p13', 'p14', 'p7'), ('p10', 'p2', 'p3', 'p5', 'p6', 'p7', 'p8', 'p9'), ('p1', 'p10', 'p12', 'p14', 'p5', 'p6', 'p9'), ('p11', 'p14', 'p2', 'p3', 'p4', 'p6', 'p7', 'p9'), ('p10', 'p14', 'p2', 'p3', 'p4', 'p5', 'p7', 'p9'), ('p1', 'p10', 'p11', 'p13', 'p14', 'p2', 'p6'), ('p10', 'p12', 'p14', 'p5', 'p8', 'p9'), ('p1', 'p11', 'p13', 'p3', 'p6', 'p7', 'p9'), ('p10', 'p13', 'p14', 'p2', 'p3', 'p6', 'p9'), ('p10', 'p12', 'p13', 'p5', 'p9'), ('p1', 'p10', 'p14', 'p4', 'p5', 'p6', 'p7', 'p8'), ('p10', 'p11', 'p14', 'p2', 'p3', 'p4', 'p5', 'p6'), ('p10', 'p11', 'p14', 'p2', 'p7', 'p9'), ('p11', 'p13', 'p2', 'p3', 'p5', 'p7', 'p9'), ('p1', 'p12', 'p14', 'p3', 'p4', 'p5', 'p6', 'p9'), ('p10', 'p11', 'p14', 'p5', 'p6', 'p9'), ('p10', 'p2', 'p4', 'p5', 'p6', 'p7', 'p8', 'p9'), ('p1', 'p12', 'p13', 'p3', 'p5', 'p7', 'p9'), ('p1', 'p10', 'p13', 'p14', 'p2', 'p4', 'p5', 'p6'), ('p10', 'p11', 'p12', 'p13', 'p3'), ('p1', 'p10', 'p12', 'p14', 'p2', 'p7', 'p8'), ('p1', 'p11', 'p14', 'p3', 'p5', 'p6', 'p7', 'p8'), ('p1', 'p10', 'p13', 'p14', 'p2', 'p3', 'p5', 'p7'), ('p1', 'p12', 'p14', 'p2', 'p3', 'p5', 'p8', 'p9'), ('p10', 'p12', 'p13', 'p3', 'p4', 'p9'), ('p1', 'p10', 'p13', 'p2', 'p3', 'p5', 'p6', 'p9'), ('p1', 'p11', 'p12', 'p13', 'p14', 'p6'), ('p10', 'p11', 'p12', 'p13', 'p5'), ('p10', 'p11', 'p13', 'p14', 'p2', 'p3', 'p4'), ('p1', 'p10', 'p11', 'p2', 'p4', 'p5', 'p6', 'p7'), ('p10', 'p12', 'p14', 'p2', 'p3', 'p8', 'p9'), ('p12', 'p13', 'p3', 'p5', 'p8', 'p9'), ('p11', 'p13', 'p4', 'p6', 'p8', 'p9'), ('p12', 'p13', 'p14', 'p2', 'p3', 'p5', 'p8'), ('p10', 'p11', 'p12', 'p3', 'p6', 'p9'), ('p1', 'p12', 'p14', 'p3', 'p4', 'p6', 'p7', 'p8'), ('p10', 'p14', 'p3', 'p4', 'p6', 'p7', 'p9'), ('p1', 'p10', 'p12', 'p2', 'p3', 'p4', 'p5', 'p6', 'p8'), ('p1', 'p11', 'p12', 'p3', 'p4', 'p7', 'p9'), ('p1', 'p10', 'p11', 'p13', 'p5', 'p9'), ('p12', 'p13', 'p14', 'p2', 'p3', 'p6', 'p8'), ('p1', 'p11', 'p13', 'p2', 'p3', 'p4', 'p7', 'p9')}\n"
          ]
        }
      ]
    }
  ]
}